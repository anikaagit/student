{
 "cells": [
  {
   "cell_type": "markdown",
   "id": "1d7e39f9",
   "metadata": {},
   "source": [
    "---\n",
    "layout: default\n",
    "toc: True\n",
    "breadcrumb: True\n",
    "title: Personal Blog\n",
    "description: This blog shows my coding journey and progression!\n",
    "permalink: /github/pages/blog\n",
    "author: Anika Marathe\n",
    "---"
   ]
  },
  {
   "cell_type": "markdown",
   "id": "972b020f",
   "metadata": {},
   "source": [
    "## 🌐 **Tools Setup & GitHub Pages**\n",
    "\n",
    "To kick off my journey, I created a GitHub Pages site using **Jekyll** and configured it to match my personal style and class identity.\n",
    "\n",
    "\n",
    "\n",
    "\n",
    "                                    \n",
    "\n"
   ]
  },
  {
   "cell_type": "code",
   "execution_count": null,
   "id": "598ba60d",
   "metadata": {
    "vscode": {
     "languageId": "javascript"
    }
   },
   "outputs": [],
   "source": [
    "//_config.yml — Setup Highlights\n",
    "title: Open Coding \n",
    "description: \"Class of 2028\"\n",
    "owner_name: Anika Marathe\n",
    "github_username: anikaagit \n",
    "github_repo: \"student\" \n",
    "baseurl: \"/student\"\n",
    "remote_theme: pages-themes/cayman@v0.2.0\n",
    "\n",
    "plugins:\n",
    "  - jekyll-remote-theme\n",
    "  - jekyll-include-cache\n",
    "\n",
    "minima:\n",
    "  skin: dark\n",
    "\n",
    "social_links:\n",
    "  - { platform: github, user_url: \"https://github.com/open-coding-society\" }\n",
    "  - { platform: x, user_url: \"https://x.com/Open_Coding\" }\n",
    "  - { platform: youtube, user_url: \"https://www.youtube.com/@OpenCodingSociety\" }\n",
    "\n",
    "header_pages:\n",
    "  - navigation/blog.md\n",
    "  - navigation/search.md\n",
    "  - navigation/about.md\n",
    "  - navigation/logintoolkit.md\n",
    "\n",
    "---\n",
    "\n"
   ]
  },
  {
   "cell_type": "markdown",
   "id": "aa2d4515",
   "metadata": {},
   "source": [
    "💡 This configuration gives my site a clean Cayman theme with a dark skin and social media integration for our open coding community."
   ]
  },
  {
   "cell_type": "markdown",
   "id": "a9b66c97",
   "metadata": {},
   "source": [
    "# 📈 Agile Scrum: Iterative Learning\n",
    "\n",
    "We followed an Agile Scrum approach in class:\n",
    "\n",
    "- Sprints every 1–2 weeks\n",
    "- Daily standups (in-class reflections)\n",
    "- Pair programming and peer reviews\n",
    "- Backlogs to track challenges and ideas\n",
    "- Retrospectives to evaluate what went well and what didn’t\n",
    "\n",
    "🎯 **Key Takeaway:** Iteration > Perfection. Ship fast, learn faster."
   ]
  },
  {
   "cell_type": "markdown",
   "id": "df080182",
   "metadata": {},
   "source": [
    "# 😂 Getting Jokes to Commit to the DOM\n",
    "\n",
    "Why code dry when you can code with jokes? I created a blog page that injects random jokes into the DOM using JavaScript. This works directly inside a Jupyter Notebook and uses HTML `<script>` tags.\n",
    "\n"
   ]
  },
  {
   "cell_type": "code",
   "execution_count": null,
   "id": "90edb2a2",
   "metadata": {
    "vscode": {
     "languageId": "javascript"
    }
   },
   "outputs": [],
   "source": [
    "//Sample Joke Setup//\n",
    "<div>\n",
    "    <h3 style=\"color:#ffd700;\">Random Computer Science Joke</h3>\n",
    "    <p id=\"computer_joke\"></p>\n",
    "</div>\n",
    "\n",
    "\n"
   ]
  },
  {
   "cell_type": "code",
   "execution_count": null,
   "id": "48d7b505",
   "metadata": {
    "vscode": {
     "languageId": "html"
    }
   },
   "outputs": [],
   "source": [
    "<script>\n",
    "var compsci_joke_list = [\n",
    "    { joke: \"Why do programmers prefer dark mode? Because light attracts bugs.\", complexity: \"1\" },\n",
    "    { joke: \"Why was the JavaScript developer sad? Because he didn't know how to 'null' his feelings.\", complexity: \"3\" },\n",
    "];\n",
    "var index = Math.floor(Math.random() * compsci_joke_list.length);\n",
    "var joke = compsci_joke_list[index];\n",
    "document.getElementById(\"computer_joke\").innerText = \"Joke: \" + joke.joke + \" (Complexity: \" + joke.complexity + \")\";\n",
    "</script>"
   ]
  },
  {
   "cell_type": "markdown",
   "id": "b4ac265b",
   "metadata": {},
   "source": [
    "# 🎮 Snake Game Hacks: Level Up!\n",
    "\n",
    "🐍 Modding isn’t cheating — it’s creative coding!\n",
    "\n",
    "Here are the changes I made to the `snake.md` file:\n",
    "\n",
    "---\n",
    "\n",
    "### 🔒 1. Prevent Arrow Keys from Scrolling the Page\n",
    "\n"
   ]
  },
  {
   "cell_type": "code",
   "execution_count": null,
   "id": "88804df4",
   "metadata": {
    "vscode": {
     "languageId": "javascript"
    }
   },
   "outputs": [],
   "source": [
    "window.addEventListener(\"keydown\", function(e) {\n",
    "  if([\"ArrowUp\", \"ArrowDown\", \"ArrowLeft\", \"ArrowRight\"].includes(e.code)) {\n",
    "    e.preventDefault();\n",
    "  }\n",
    "}, false);\n",
    "\n"
   ]
  },
  {
   "cell_type": "markdown",
   "id": "8d808912",
   "metadata": {},
   "source": [
    "### 2: I added 10x10 Grid Lines"
   ]
  },
  {
   "cell_type": "code",
   "execution_count": null,
   "id": "7db7617d",
   "metadata": {
    "vscode": {
     "languageId": "javascript"
    }
   },
   "outputs": [],
   "source": [
    "function drawGrid(ctx, canvasSize, cellSize = 10) {\n",
    "  ctx.strokeStyle = '#ccc';\n",
    "  for (let x = 0; x < canvasSize; x += cellSize) {\n",
    "    ctx.beginPath();\n",
    "    ctx.moveTo(x, 0);\n",
    "    ctx.lineTo(x, canvasSize);\n",
    "    ctx.stroke();\n",
    "  }\n",
    "  for (let y = 0; y < canvasSize; y += cellSize) {\n",
    "    ctx.beginPath();\n",
    "    ctx.moveTo(0, y);\n",
    "    ctx.lineTo(canvasSize, y);\n",
    "    ctx.stroke();\n",
    "  }\n",
    "}\n"
   ]
  },
  {
   "cell_type": "markdown",
   "id": "d070c331",
   "metadata": {},
   "source": [
    "## 3. I added a yellow power-up for an extra life!"
   ]
  },
  {
   "cell_type": "code",
   "execution_count": null,
   "id": "bbb8d638",
   "metadata": {
    "vscode": {
     "languageId": "javascript"
    }
   },
   "outputs": [],
   "source": [
    "// Generate yellow square\n",
    "function drawPowerUp(x, y, ctx) {\n",
    "  ctx.fillStyle = 'yellow';\n",
    "  ctx.fillRect(x, y, 10, 10);\n",
    "}\n",
    "\n",
    "// Collision check\n",
    "if (snakeHead.x === powerUp.x && snakeHead.y === powerUp.y) {\n",
    "  lives += 1;\n",
    "  spawnNewPowerUp();\n",
    "}\n",
    "\n",
    "\n"
   ]
  },
  {
   "cell_type": "markdown",
   "id": "75196363",
   "metadata": {},
   "source": [
    "# 📦 GitHub File Management Tips\n",
    "\n",
    "## Helpful GitHub Terminal Commands\n",
    "\n",
    "\n",
    "\n"
   ]
  },
  {
   "cell_type": "code",
   "execution_count": null,
   "id": "2acd5e53",
   "metadata": {
    "vscode": {
     "languageId": "shellscript"
    }
   },
   "outputs": [],
   "source": [
    "git clone https://github.com/yourrepo.git\n",
    "cd yourrepo\n",
    "git pull origin main\n",
    "code ."
   ]
  },
  {
   "cell_type": "markdown",
   "id": "a14b82b5",
   "metadata": {},
   "source": [
    "✅ Always keep your _notebooks folder organized and updated!\n",
    "\n",
    "🔧 Jupyter Notebook Diagnostic Tool\n",
    "\n",
    "Use this bash script to verify your Jupyter environment:\n",
    "\n",
    "\n",
    "\n"
   ]
  },
  {
   "cell_type": "code",
   "execution_count": null,
   "id": "1d4e6b14",
   "metadata": {
    "vscode": {
     "languageId": "shellscript"
    }
   },
   "outputs": [],
   "source": [
    "%%script bash\n",
    "commands=(\"python --version\" \"jupyter --version\" \"jupyter kernelspec list\")\n",
    "for cmd in \"${commands[@]}\"; do\n",
    "  echo \"### Command: $cmd\"\n",
    "  bash -c \"$cmd\"\n",
    "done"
   ]
  },
  {
   "cell_type": "markdown",
   "id": "785d191d",
   "metadata": {},
   "source": [
    "# Final Thoughts\n",
    "\n",
    "This blog is not just about coding—it’s about creativity, teamwork, and documenting growth.\n",
    "\n",
    "✨ \"The best way to learn code is to write, break, fix, and reflect.\"\n",
    "\n",
    "Stay tuned for:\n",
    "\n",
    "More hacks 💻\n",
    "\n",
    "More projects 📊\n",
    "\n",
    "\n"
   ]
  }
 ],
 "metadata": {
  "language_info": {
   "name": "python"
  }
 },
 "nbformat": 4,
 "nbformat_minor": 5
}
