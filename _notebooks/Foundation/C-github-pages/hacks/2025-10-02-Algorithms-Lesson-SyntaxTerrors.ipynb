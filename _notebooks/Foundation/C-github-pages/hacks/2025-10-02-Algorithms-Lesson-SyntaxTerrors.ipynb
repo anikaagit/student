{
 "cells": [
  {
   "cell_type": "code",
   "execution_count": null,
   "id": "a996e23f",
   "metadata": {
    "vscode": {
     "languageId": "yaml"
    }
   },
   "outputs": [],
   "source": [
    "---\n",
    "layout: default\n",
    "infoGraph: algorithms\n",
    "title: Coding Concept - Algorithms\n",
    "description: Understanding Algorithms in Python and JavaScript\n",
    "permalink: github/pages/hacks/algorithms\n",
    "author: Hope F\n",
    "---"
   ]
  },
  {
   "cell_type": "markdown",
   "id": "dc7e70e0",
   "metadata": {},
   "source": [
    "## 3.9 Algorithms - Syntax Terrors "
   ]
  },
  {
   "cell_type": "markdown",
   "id": "b463c663",
   "metadata": {},
   "source": [
    "{%- include tailwind/tabs.html -%}"
   ]
  }
 ],
 "metadata": {
  "language_info": {
   "name": "python"
  }
 },
 "nbformat": 4,
 "nbformat_minor": 5
}
