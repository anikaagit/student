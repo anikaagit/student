{
 "cells": [
  {
   "cell_type": "raw",
   "id": "65acca70",
   "metadata": {
    "vscode": {
     "languageId": "raw"
    }
   },
   "source": [
    "---\n",
    "layout: post\n",
    "title: Conditionals in Python by Ctrl-Zombies\n",
    "description: Conditionals homework in Python\n",
    "permalink: /github/pages/pythonhw/conditionals/\n",
    "Author: Aneesh Deevi, Moiz Lukmani, Perry Say\n",
    "---"
   ]
  },
  {
   "cell_type": "markdown",
   "id": "3db6febd",
   "metadata": {},
   "source": [
    "## Conditionals Python Homework\n",
    "---\n",
    "### Python Popcorn Hack\n",
    "\n"
   ]
  },
  {
   "cell_type": "code",
   "execution_count": 1,
   "id": "96d9cb22",
   "metadata": {},
   "outputs": [
    {
     "name": "stdout",
     "output_type": "stream",
     "text": [
      "Error: Cannot divide by zero!\n"
     ]
    }
   ],
   "source": [
    "number1 = 10\n",
    "number2 = 0   \n",
    "\n",
    "if number2 != 0:        # fill in the condition\n",
    "    result = number1 / number2   # fill in the operator\n",
    "    print(\"The answer is\", result)  # fill in what to print\n",
    "else:\n",
    "    print(\"Error: Cannot divide by zero!\")  # fill in the missing word\n"
   ]
  },
  {
   "cell_type": "markdown",
   "id": "35720ac5",
   "metadata": {},
   "source": [
    "### Part A: Answer the Question!\n",
    "What does an if statement do in programming?\n",
    "\n",
    "`An if statement in programming is used to make decisions based on conditions.\n",
    "\n",
    "It checks whether a condition is true or false, and:\n",
    "\n",
    "If the condition is true, it runs the block of code inside the if.\n",
    "\n",
    "If the condition is false, it skips that block (or runs the else part if there is one).``\n",
    "\n",
    "\n",
    "### Part B: Python Practice\n",
    "Write a Python program that checks if a number ``score = 85`` is a **passing grade** (≥ 60). Print \"Pass\" if true, otherwise ``\"Fail\"``.\n",
    "<!-- Extra Credit: Change the variables assigned values (Ex: score = 90, passing grade (≥ 20), etc). -->\n"
   ]
  },
  {
   "cell_type": "code",
   "execution_count": null,
   "id": "85cce559",
   "metadata": {},
   "outputs": [],
   "source": [
    "# <-- Example Code\n",
    "\n",
    "x = 19\n",
    "\n",
    "if x >= 18:\n",
    "    print(\"You can vote\")\n",
    "else:\n",
    "    print(\"You are too young to vote\")"
   ]
  },
  {
   "cell_type": "code",
   "execution_count": 1,
   "id": "92a69163",
   "metadata": {},
   "outputs": [
    {
     "name": "stdout",
     "output_type": "stream",
     "text": [
      "Pass\n"
     ]
    }
   ],
   "source": [
    "score = 85   \n",
    "\n",
    "if score >= 60:\n",
    "    print(\"Pass\")\n",
    "else:\n",
    "    print(\"Fail\")\n"
   ]
  }
 ],
 "metadata": {
  "kernelspec": {
   "display_name": "venv",
   "language": "python",
   "name": "python3"
  },
  "language_info": {
   "codemirror_mode": {
    "name": "ipython",
    "version": 3
   },
   "file_extension": ".py",
   "mimetype": "text/x-python",
   "name": "python",
   "nbconvert_exporter": "python",
   "pygments_lexer": "ipython3",
   "version": "3.12.3"
  }
 },
 "nbformat": 4,
 "nbformat_minor": 5
}
