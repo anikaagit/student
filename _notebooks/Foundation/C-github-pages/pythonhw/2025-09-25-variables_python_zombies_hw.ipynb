{
 "cells": [
  {
   "cell_type": "raw",
   "id": "6d62ad69",
   "metadata": {
    "vscode": {
     "languageId": "raw"
    }
   },
   "source": [
    "---\n",
    "layout: default\n",
    "title: Variables & Assignments\n",
    "description: This page will provide homework for the variables and assigmnets lesson.\n",
    "permalink: /github/pages/pythonhw/variables\n",
    "breadcrumb: True\n",
    "Author: Ethan Patel, Tanay Paranjpe, Neil Manjrekar\n",
    "---"
   ]
  },
  {
   "cell_type": "markdown",
   "id": "2b9da6aa",
   "metadata": {},
   "source": [
    "## Variables & Assignment Homework\n",
    "---\n",
    "Description:\n",
    "- In this homework hack, you will practice creating and using variables. You’ll define variables to store your name and age, reassign values, and answer interactive questions to test your understanding. This activity will help you master the basics of variables and how they work in programming."
   ]
  },
  {
   "cell_type": "markdown",
   "id": "352d458b",
   "metadata": {
    "vscode": {
     "languageId": "plaintext"
    }
   },
   "source": [
    "# 🏠 Variables Quest Homework\n",
    "\n",
    "**Objective:** Practice creating, manipulating, and combining strings in Python.\n",
    "\n",
    "---\n",
    "\n",
    "## Instructions\n",
    "\n",
    "Complete each challenge by **filling in the missing code**. Use the examples as a guide, but make sure to write your own values or logic.\n"
   ]
  },
  {
   "cell_type": "markdown",
   "id": "39715e07",
   "metadata": {
    "vscode": {
     "languageId": "raw"
    }
   },
   "source": [
    "## Challenge 1: Creating a Life Profile with Variables"
   ]
  },
  {
   "cell_type": "code",
   "execution_count": 3,
   "id": "35609373",
   "metadata": {},
   "outputs": [
    {
     "name": "stdout",
     "output_type": "stream",
     "text": [
      "Name: Anika\n",
      "Age: 15\n",
      "City: Los Angeles\n",
      "Favorite color: blue\n",
      "Favorite food: Pizza\n",
      "Favorite movie: Inception\n",
      "Favorite song: That's So True\n",
      "Student? True\n",
      "Has pet? False\n",
      "Online? True\n",
      "Likes music? True\n"
     ]
    }
   ],
   "source": [
    "# Part 1\n",
    "## Personal info\n",
    "my_name = \"Anika\"          # Fill in your name\n",
    "my_age = 15           # Fill in your age\n",
    "my_city = \"San Diego\"         # Fill in the city where you live\n",
    "\n",
    "# Part 2\n",
    "## Preferences\n",
    "favorite_color = \"blue\"    # Your favorite color\n",
    "favorite_food = \"pasta\"     # Your favorite food\n",
    "favorite_movie = \"Inception\"    # Your favorite movie\n",
    "favorite_song = \"That's So True\"    # Your favorite song\n",
    "\n",
    "# Part 3\n",
    "# Reassign some variables\n",
    "favorite_food = \"Pizza\"\n",
    "my_city = \"Los Angeles\"\n",
    "has_pet = False\n",
    "is_student = True\n",
    "is_online = True\n",
    "likes_music = True\n",
    "\n",
    "# Part 5: Print Your Life Profile\n",
    "\n",
    "\n",
    "print(\"Name:\", my_name)\n",
    "print(\"Age:\", my_age)\n",
    "print(\"City:\", my_city)\n",
    "print(\"Favorite color:\", favorite_color)\n",
    "print(\"Favorite food:\", favorite_food)\n",
    "print(\"Favorite movie:\", favorite_movie)\n",
    "print(\"Favorite song:\", favorite_song)\n",
    "print(\"Student?\", is_student)\n",
    "print(\"Has pet?\", has_pet)\n",
    "print(\"Online?\", is_online)\n",
    "print(\"Likes music?\", likes_music)\n"
   ]
  },
  {
   "cell_type": "markdown",
   "id": "748cd3e2",
   "metadata": {},
   "source": [
    "# Task 2 "
   ]
  },
  {
   "cell_type": "markdown",
   "id": "a775e8cf",
   "metadata": {
    "vscode": {
     "languageId": "html"
    }
   },
   "source": [
    "## Creative Challenge \n",
    "\n",
    "Your task: Create a “story” or “profile” using **ONLY variables and assignments**.  \n",
    "\n",
    "\n",
    "### Instructions:\n",
    "\n",
    "1. **Create at least 8 variables** to describe a character or yourself.  \n",
    "   Examples:  \n",
    "   `name`, `age`, `favorite_food`, `hobby`, `number_of_pets`, `mood`, `favorite_color`, `dream_job`\n",
    "\n",
    "2. **Assign initial values** to all variables.\n",
    "\n",
    "3. **Reassign at least 4 of the variables** to new values to simulate changes over time or “events” in the story.\n",
    "\n",
    "4. Use **print statements** to write a story or profile that is **at least 5 sentences long**.  \n",
    "   Each sentence should include at least one variable.  \n",
    "   Example:  \n",
    "   > \"Tanay ('age' 17) loves pizza and plays tennis ('hobby') every weekend. Today, Tanay is happy because he ate his ('favoirite_food').\"\n",
    "\n",
    "5. Optional: Add **extra variables** to make your story longer and more creative.  \n",
    "   You can also create “day 2”, “day 3”, etc., by reassigning variables and printing new sentences.\n",
    "\n",
    "### Goal:\n",
    "\n",
    "- Show creativity while practicing:  \n",
    "  - Variable creation  \n",
    "  - Variable reassignment  \n",
    "  - Using variables in print statements\n",
    "  - Experiment with assigment and reassigment to update variables \n"
   ]
  },
  {
   "cell_type": "markdown",
   "id": "d75a4417",
   "metadata": {},
   "source": []
  },
  {
   "cell_type": "code",
   "execution_count": 5,
   "id": "c1b5ed3e",
   "metadata": {},
   "outputs": [
    {
     "name": "stdout",
     "output_type": "stream",
     "text": [
      "Anika, who is 16 years old, lives in San Diego and loves pizza.\n",
      "Every weekend, Anika spends time painting and doing math.\n",
      "Today, Anika is feeling inspired because something amazing happened!\n",
      "Anika's favorite color is blue, and one day wants to be a computer scientist.\n",
      "With 1 pet at home, life is never boring for Anika.\n",
      "After a long day, Anika feels tired and relaxes by reading.\n"
     ]
    }
   ],
   "source": [
    "# Step 1: Create at least 8 variables\n",
    "name = \"Anika\"\n",
    "age = 15\n",
    "favorite_food = \"pizza\"\n",
    "hobby = \"dance\"\n",
    "number_of_pets = 0\n",
    "mood = \"happy\"\n",
    "favorite_color = \"blue\"\n",
    "dream_job = \"computer scientist\"\n",
    "city = \"San Diego\"\n",
    "favorite_subject = \"math\"\n",
    "\n",
    "# Step 3: Reassign at least 4 variables to simulate changes/events\n",
    "age = 16 \n",
    "mood = \"inspired\"  \n",
    "hobby = \"painting\"  \n",
    "number_of_pets = 1 \n",
    "\n",
    "# Step 4: Write a story using print statements\n",
    "print(f\"{name}, who is {age} years old, lives in {city} and loves {favorite_food}.\")\n",
    "print(f\"Every weekend, {name} spends time {hobby} and doing {favorite_subject}.\")\n",
    "print(f\"Today, {name} is feeling {mood} because something amazing happened!\")\n",
    "print(f\"{name}'s favorite color is {favorite_color}, and one day wants to be a {dream_job}.\")\n",
    "print(f\"With {number_of_pets} pet at home, life is never boring for {name}.\")\n",
    "\n",
    "# Optional: Continue the story with another day/event\n",
    "mood = \"tired\"\n",
    "hobby = \"reading\"\n",
    "print(f\"After a long day, {name} feels {mood} and relaxes by {hobby}.\")\n"
   ]
  }
 ],
 "metadata": {
  "kernelspec": {
   "display_name": "venv",
   "language": "python",
   "name": "python3"
  },
  "language_info": {
   "codemirror_mode": {
    "name": "ipython",
    "version": 3
   },
   "file_extension": ".py",
   "mimetype": "text/x-python",
   "name": "python",
   "nbconvert_exporter": "python",
   "pygments_lexer": "ipython3",
   "version": "3.12.3"
  }
 },
 "nbformat": 4,
 "nbformat_minor": 5
}
