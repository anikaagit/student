{
 "cells": [
  {
   "cell_type": "raw",
   "id": "5d9d659b",
   "metadata": {
    "vscode": {
     "languageId": "raw"
    }
   },
   "source": [
    "---\n",
    "layout: default\n",
    "title: Variables & Assignments\n",
    "description: This page will provide homework for the variables and assigmnets lesson.\n",
    "permalink: github/pages/javascripthw/variables\n",
    "breadcrumb: True\n",
    "Author: Ethan Patel, Tanay Paranjpe, Neil Manjrekar\n",
    "---"
   ]
  },
  {
   "cell_type": "markdown",
   "id": "4f2bb0f9",
   "metadata": {},
   "source": [
    "## Javascript Variables HW"
   ]
  },
  {
   "cell_type": "code",
   "execution_count": 1,
   "id": "a349231f",
   "metadata": {
    "vscode": {
     "languageId": "javascript"
    }
   },
   "outputs": [
    {
     "data": {
      "application/javascript": "\n/* Part 1 */\nlet myName = \"Anika\";\nlet myAge = 15;\nlet myCity = \"San Diego\";\n\n/* Part 2 - Preferences */\nlet favoriteColor = \"blue\";\nlet favoriteFood = \"pizza\";\nlet favoriteMovie = \"Inception\";\nlet favoriteSong = \"That's So True\";\n\n/* Part 3 - Reassign some variables */\nfavoriteFood = \"Pasta\";\nmyCity = \"Los Angeles\";\nlet hasPet = false;\n\n/* Part 4 - Add some more details */\nlet isStudent = true;\nlet isOnline = true;\nlet likesMusic = true;\n\n/* Part 5 - Just log it instead of committing to DOM */\nconsole.log(\"Name:\", myName);\nconsole.log(\"Age:\", myAge);\nconsole.log(\"City:\", myCity);\nconsole.log(\"Favorite color:\", favoriteColor);\nconsole.log(\"Favorite food:\", favoriteFood);\nconsole.log(\"Favorite movie:\", favoriteMovie);\nconsole.log(\"Favorite song:\", favoriteSong);\nconsole.log(\"Student?\", isStudent);\nconsole.log(\"Has pet?\", hasPet);\nconsole.log(\"Online?\", isOnline);\nconsole.log(\"Likes music?\", likesMusic);\n\n",
      "text/plain": [
       "<IPython.core.display.Javascript object>"
      ]
     },
     "metadata": {},
     "output_type": "display_data"
    }
   ],
   "source": [
    "%%javascript\n",
    "\n",
    "/* Part 1 */\n",
    "let myName = \"Anika\";\n",
    "let myAge = 15;\n",
    "let myCity = \"San Diego\";\n",
    "\n",
    "/* Part 2 - Preferences */\n",
    "let favoriteColor = \"blue\";\n",
    "let favoriteFood = \"pizza\";\n",
    "let favoriteMovie = \"Inception\";\n",
    "let favoriteSong = \"That's So True\";\n",
    "\n",
    "/* Part 3 - Reassign some variables */\n",
    "favoriteFood = \"Pasta\";\n",
    "myCity = \"Los Angeles\";\n",
    "let hasPet = false;\n",
    "\n",
    "/* Part 4 - Add some more details */\n",
    "let isStudent = true;\n",
    "let isOnline = true;\n",
    "let likesMusic = true;\n",
    "\n",
    "/* Part 5 - Just log it instead of committing to DOM */\n",
    "console.log(\"Name:\", myName);\n",
    "console.log(\"Age:\", myAge);\n",
    "console.log(\"City:\", myCity);\n",
    "console.log(\"Favorite color:\", favoriteColor);\n",
    "console.log(\"Favorite food:\", favoriteFood);\n",
    "console.log(\"Favorite movie:\", favoriteMovie);\n",
    "console.log(\"Favorite song:\", favoriteSong);\n",
    "console.log(\"Student?\", isStudent);\n",
    "console.log(\"Has pet?\", hasPet);\n",
    "console.log(\"Online?\", isOnline);\n",
    "console.log(\"Likes music?\", likesMusic);\n",
    "\n"
   ]
  }
 ],
 "metadata": {
  "kernelspec": {
   "display_name": "venv",
   "language": "python",
   "name": "python3"
  },
  "language_info": {
   "codemirror_mode": {
    "name": "ipython",
    "version": 3
   },
   "file_extension": ".py",
   "mimetype": "text/x-python",
   "name": "python",
   "nbconvert_exporter": "python",
   "pygments_lexer": "ipython3",
   "version": "3.12.3"
  }
 },
 "nbformat": 4,
 "nbformat_minor": 5
}
