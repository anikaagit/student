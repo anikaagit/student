{
 "cells": [
  {
   "cell_type": "raw",
   "id": "5d9d659b",
   "metadata": {
    "vscode": {
     "languageId": "raw"
    }
   },
   "source": [
    "---\n",
    "layout: default\n",
    "title: Variables & Assignments\n",
    "description: This page will provide homework for the variables and assigmnets lesson.\n",
    "permalink: /github/pages/javscripthw/variables/\n",
    "breadcrumb: True\n",
    "Author: Ethan Patel, Tanay Paranjpe, Neil Manjrekar\n",
    "---"
   ]
  },
  {
   "cell_type": "markdown",
   "id": "4f2bb0f9",
   "metadata": {},
   "source": [
    "## Javascript Variables HW"
   ]
  },
  {
   "cell_type": "code",
   "execution_count": null,
   "id": "a349231f",
   "metadata": {
    "vscode": {
     "languageId": "javascript"
    }
   },
   "outputs": [
    {
     "data": {
      "application/javascript": "\nlet myName = \"Anika\";\nlet myAge = 15;\nlet myCity = \"Los Angeles\";\n\nlet favoriteColor = \"blue\";\nlet favoriteFood = \"Pasta\";\nlet favoriteMovie = \"Inception\";\nlet favoriteSong = \"That's So True\";\n\nlet isStudent = true;\nlet hasPet = false;\nlet isOnline = true;\nlet likesMusic = true;\n\nlet output = `\n  <p>Name: ${myName}</p>\n  <p>Age: ${myAge}</p>\n  <p>City: ${myCity}</p>\n  <p>Favorite color: ${favoriteColor}</p>\n  <p>Favorite food: ${favoriteFood}</p>\n  <p>Favorite movie: ${favoriteMovie}</p>\n  <p>Favorite song: ${favoriteSong}</p>\n  <p>Student? ${isStudent}</p>\n  <p>Has pet? ${hasPet}</p>\n  <p>Online? ${isOnline}</p>\n  <p>Likes music? ${likesMusic}</p>\n`;\nvar cell_output_area = this.element[0].parentElement; \ncell_output_area.innerHTML = output;\n",
      "text/plain": [
       "<IPython.core.display.Javascript object>"
      ]
     },
     "metadata": {},
     "output_type": "display_data"
    }
   ],
   "source": [
    "%%javascript\n",
    "\n",
    "from IPython.display import display, Javascript\n",
    "\n",
    "js_code = \"\"\"\n",
    "let myName = \"Anika\";\n",
    "let myAge = 15;\n",
    "let myCity = \"Los Angeles\";\n",
    "\n",
    "let favoriteColor = \"blue\";\n",
    "let favoriteFood = \"Pasta\";\n",
    "let favoriteMovie = \"Inception\";\n",
    "let favoriteSong = \"That's So True\";\n",
    "\n",
    "let isStudent = true;\n",
    "let hasPet = false;\n",
    "let isOnline = true;\n",
    "let likesMusic = true;\n",
    "\n",
    "let output = `\n",
    "  <p>Name: ${myName}</p>\n",
    "  <p>Age: ${myAge}</p>\n",
    "  <p>City: ${myCity}</p>\n",
    "  <p>Favorite color: ${favoriteColor}</p>\n",
    "  <p>Favorite food: ${favoriteFood}</p>\n",
    "  <p>Favorite movie: ${favoriteMovie}</p>\n",
    "  <p>Favorite song: ${favoriteSong}</p>\n",
    "  <p>Student? ${isStudent}</p>\n",
    "  <p>Has pet? ${hasPet}</p>\n",
    "  <p>Online? ${isOnline}</p>\n",
    "  <p>Likes music? ${likesMusic}</p>\n",
    "`;\n",
    "var cell_output_area = this.element[0].parentElement; \n",
    "cell_output_area.innerHTML = output;\n",
    "\"\"\"\n",
    "\n",
    "display(Javascript(js_code))\n"
   ]
  }
 ],
 "metadata": {
  "kernelspec": {
   "display_name": "venv",
   "language": "python",
   "name": "python3"
  },
  "language_info": {
   "codemirror_mode": {
    "name": "ipython",
    "version": 3
   },
   "file_extension": ".py",
   "mimetype": "text/x-python",
   "name": "python",
   "nbconvert_exporter": "python",
   "pygments_lexer": "ipython3",
   "version": "3.12.3"
  }
 },
 "nbformat": 4,
 "nbformat_minor": 5
}
