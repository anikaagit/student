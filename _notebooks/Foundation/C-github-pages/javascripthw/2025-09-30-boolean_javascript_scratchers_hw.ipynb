{
 "cells": [
  {
   "cell_type": "raw",
   "id": "9f76eaf9",
   "metadata": {
    "vscode": {
     "languageId": "raw"
    }
   },
   "source": [
    "---\n",
    "layout: opencs\n",
    "title: Boolean Logic in Programming\n",
    "description: Boolean Hacks For Students To Try In Java\n",
    "comments: false\n",
    "permalink: /csp/big-idea-3/boolean/p4/javahacks\n",
    "comments: true\n",
    "---"
   ]
  },
  {
   "cell_type": "markdown",
   "id": "823548ae",
   "metadata": {},
   "source": [
    "# 🔑 Boolean Hacks in Java: Whack-A-Mole \n",
    "\n",
    "This notebook has short Boolean challenges. Edit the code where it says `TODO` to make it work."
   ]
  },
  {
   "cell_type": "markdown",
   "id": "edd847c1",
   "metadata": {},
   "source": [
    "## Challenge 1: Mole Hit\n",
    "Set hit to true if the player hits the mole. Print \"Hit!\" if hit is true, otherwise print \"Miss!\"."
   ]
  },
  {
   "cell_type": "code",
   "execution_count": 1,
   "id": "e6c87780",
   "metadata": {
    "vscode": {
     "languageId": "javascript"
    }
   },
   "outputs": [
    {
     "data": {
      "application/javascript": "\nlet hit = false; // Change to true if you hit the mole\n\n// Simulate hitting the mole (set hit to true)\nhit = true;\n\n// Check if hit is true\nif (hit) {\n    console.log(\"Hit!\");\n} else {\n    console.log(\"Miss!\");\n}\n",
      "text/plain": [
       "<IPython.core.display.Javascript object>"
      ]
     },
     "metadata": {},
     "output_type": "display_data"
    }
   ],
   "source": [
    "%%javascript\n",
    "\n",
    "let hit = false; // Change to true if you hit the mole\n",
    "\n",
    "// Simulate hitting the mole (set hit to true)\n",
    "hit = true;\n",
    "\n",
    "// Check if hit is true\n",
    "if (hit) {\n",
    "    console.log(\"Hit!\");\n",
    "} else {\n",
    "    console.log(\"Miss!\");\n",
    "}\n"
   ]
  },
  {
   "cell_type": "markdown",
   "id": "009c2e2d",
   "metadata": {},
   "source": [
    "## Challenge 2: Out of Lives\n",
    "Each time the player misses a mole, they lose a life. If lives reach 0, print \"Game Over!\"."
   ]
  },
  {
   "cell_type": "code",
   "execution_count": 2,
   "id": "2db682ee",
   "metadata": {
    "vscode": {
     "languageId": "javascript"
    }
   },
   "outputs": [
    {
     "data": {
      "application/javascript": "\nlet lives = 3; // Player starts with 3 lives\n\n// Simulate missing moles multiple times\nfor (let i = 0; i < 5; i++) {  // you can change 5 to however many turns you want\n    let missed = Math.random() < 0.6; // 60% chance to miss (for testing)\n\n    if (missed) {\n        lives -= 1;\n        console.log(\"You missed a mole! Lives left: \" + lives);\n    } else {\n        console.log(\"Nice hit! Lives left: \" + lives);\n    }\n\n    if (lives === 0) {\n        console.log(\"Game Over!\");\n        break; // stop the loop when game ends\n    }\n}\n",
      "text/plain": [
       "<IPython.core.display.Javascript object>"
      ]
     },
     "metadata": {},
     "output_type": "display_data"
    }
   ],
   "source": [
    "%%javascript\n",
    "\n",
    "let lives = 3; // Player starts with 3 lives\n",
    "\n",
    "// Simulate missing moles multiple times\n",
    "for (let i = 0; i < 5; i++) {  // you can change 5 to however many turns you want\n",
    "    let missed = Math.random() < 0.6; // 60% chance to miss (for testing)\n",
    "    \n",
    "    if (missed) {\n",
    "        lives -= 1;\n",
    "        console.log(\"You missed a mole! Lives left: \" + lives);\n",
    "    } else {\n",
    "        console.log(\"Nice hit! Lives left: \" + lives);\n",
    "    }\n",
    "\n",
    "    if (lives === 0) {\n",
    "        console.log(\"Game Over!\");\n",
    "        break; // stop the loop when game ends\n",
    "    }\n",
    "}\n"
   ]
  },
  {
   "cell_type": "markdown",
   "id": "92c02232",
   "metadata": {},
   "source": [
    "## Challenge 3: High Score Boost\n",
    "If the player’s score reaches 10 or more, give them a bonus of +5 points."
   ]
  },
  {
   "cell_type": "code",
   "execution_count": 3,
   "id": "e11dd74a",
   "metadata": {
    "vscode": {
     "languageId": "javascript"
    }
   },
   "outputs": [
    {
     "data": {
      "application/javascript": "\nlet score = 8; // Change this value to test different scores\n\n// Check if score reaches 10 or more\nif (score >= 10) {\n    score += 5; // Give bonus points\n    console.log(\"Bonus awarded! Your new score is: \" + score);\n} else {\n    console.log(\"Keep playing! Current score: \" + score);\n}\n",
      "text/plain": [
       "<IPython.core.display.Javascript object>"
      ]
     },
     "metadata": {},
     "output_type": "display_data"
    }
   ],
   "source": [
    "%%javascript\n",
    "\n",
    "let score = 8; // Change this value to test different scores\n",
    "\n",
    "// Check if score reaches 10 or more\n",
    "if (score >= 10) {\n",
    "    score += 5; // Give bonus points\n",
    "    console.log(\"Bonus awarded! Your new score is: \" + score);\n",
    "} else {\n",
    "    console.log(\"Keep playing! Current score: \" + score);\n",
    "}\n"
   ]
  },
  {
   "cell_type": "markdown",
   "id": "d8499647",
   "metadata": {},
   "source": [
    "## Challenge 4: Bonus Mole Condition\n",
    "A golden mole should only give a bonus if both goldenMole and hit are true. Fix the condition."
   ]
  },
  {
   "cell_type": "code",
   "execution_count": 4,
   "id": "a23b7e64",
   "metadata": {
    "vscode": {
     "languageId": "javascript"
    }
   },
   "outputs": [
    {
     "data": {
      "application/javascript": "\nlet goldenMole = true;   // Special mole appears\nlet hit = true;           // Change to true if the mole is hit\n\n// Give bonus only if BOTH conditions are true\nif (goldenMole && hit) {\n    console.log(\"Bonus!\");\n} else {\n    console.log(\"No bonus.\");\n}\n",
      "text/plain": [
       "<IPython.core.display.Javascript object>"
      ]
     },
     "metadata": {},
     "output_type": "display_data"
    }
   ],
   "source": [
    "%%javascript\n",
    "\n",
    "let goldenMole = true;   // Special mole appears\n",
    "let hit = true;           // Change to true if the mole is hit\n",
    "\n",
    "// Give bonus only if BOTH conditions are true\n",
    "if (goldenMole && hit) {\n",
    "    console.log(\"Bonus!\");\n",
    "} else {\n",
    "    console.log(\"No bonus.\");\n",
    "}\n"
   ]
  }
 ],
 "metadata": {
  "kernelspec": {
   "display_name": "venv",
   "language": "python",
   "name": "python3"
  },
  "language_info": {
   "codemirror_mode": {
    "name": "ipython",
    "version": 3
   },
   "file_extension": ".py",
   "mimetype": "text/x-python",
   "name": "python",
   "nbconvert_exporter": "python",
   "pygments_lexer": "ipython3",
   "version": "3.12.3"
  }
 },
 "nbformat": 4,
 "nbformat_minor": 5
}
