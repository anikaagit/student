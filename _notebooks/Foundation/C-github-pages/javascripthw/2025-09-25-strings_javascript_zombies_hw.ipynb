{
 "cells": [
  {
   "cell_type": "raw",
   "id": "9dc55ce4",
   "metadata": {
    "vscode": {
     "languageId": "raw"
    }
   },
   "source": [
    "---\n",
    "layout: post\n",
    "title: Strings\n",
    "description: This page will teach you about strings in programming.\n",
    "permalink: /github/pages/jshw/strings/\n",
    "breadcrumb: True\n",
    "Author: Ethan Patel, Tanay Paranjpe, Neil Manjrekar\n",
    "---"
   ]
  },
  {
   "cell_type": "markdown",
   "id": "536a8026",
   "metadata": {},
   "source": [
    "# Javascript Strings Homework\n",
    "---"
   ]
  },
  {
   "cell_type": "markdown",
   "id": "a234c11e",
   "metadata": {},
   "source": [
    "## Javascript Popcorn Hack"
   ]
  },
  {
   "cell_type": "code",
   "execution_count": 1,
   "id": "8180aaf8",
   "metadata": {
    "vscode": {
     "languageId": "javascript"
    }
   },
   "outputs": [
    {
     "data": {
      "application/javascript": "let fullName = \"Anika Marathe\";   // <-- Add your full name\n\n// Extract first name (characters before the space)\nlet firstName = fullName.substring(0, 5);   // \"Anika\"\n\n// Extract last name (characters after the space)\nlet lastName = fullName.substring(6);       // \"Marathe\"\n\n// Print results\nconsole.log(\"First: \" + firstName);\nconsole.log(\"Last: \" + lastName);\n",
      "text/plain": [
       "<IPython.core.display.Javascript object>"
      ]
     },
     "metadata": {},
     "output_type": "display_data"
    }
   ],
   "source": [
    "%%js\n",
    "let fullName = \"Anika Marathe\";   // <-- Add your full name\n",
    "\n",
    "// Extract first name (characters before the space)\n",
    "let firstName = fullName.substring(0, 5);   // \"Anika\"\n",
    "\n",
    "// Extract last name (characters after the space)\n",
    "let lastName = fullName.substring(6);       // \"Marathe\"\n",
    "\n",
    "// Print results\n",
    "console.log(\"First: \" + firstName);\n",
    "console.log(\"Last: \" + lastName);\n"
   ]
  },
  {
   "cell_type": "markdown",
   "id": "5209b8ea",
   "metadata": {},
   "source": [
    "## Javascript Strings Homework"
   ]
  },
  {
   "cell_type": "markdown",
   "id": "09d7475e",
   "metadata": {},
   "source": [
    "##### Task – Password Strength Checker\n",
    "Write a JavaScript program that asks the user to enter a password (use prompt() in the browser).\n",
    "\n",
    "Your program should check for these rules using string methods:\n",
    "\n",
    "1. The password must be at least 8 characters long.\n",
    "\n",
    "2. It must include the word \"!\" somewhere.\n",
    "\n",
    "3. It must not start with a space \" \".\n",
    "\n",
    "4. Print out one of these messages depending on the input:\n",
    "\n",
    "- \"Strong password\" if all rules are met.\n",
    "\n",
    "- \"Weak password: too short\" if less than 8 characters.\n",
    "\n",
    "- \"Weak password: missing !\" if it doesn’t include \"!\".\n",
    "\n",
    "- \"Weak password: cannot start with space\" if it starts with a space."
   ]
  },
  {
   "cell_type": "code",
   "execution_count": 5,
   "id": "69443fb4",
   "metadata": {
    "vscode": {
     "languageId": "javascript"
    }
   },
   "outputs": [
    {
     "data": {
      "application/javascript": "// Ask the user for a password\nlet password = prompt(\"Enter your password:\");\n\n// Check if the user cancelled\nif (password === null) {\n  console.log(\"Prompt cancelled.\");\n} else {\n  // Rule 1: must be at least 8 characters\n  if (password.length < 8) {\n    console.log(\"Weak password: too short\");\n  }\n  // Rule 3: must not start with a space\n  else if (password.startsWith(\" \")) {\n    console.log(\"Weak password: cannot start with space\");\n  }\n  // Rule 2: must include \"!\"\n  else if (!password.includes(\"!\")) {\n    console.log(\"Weak password: missing !\");\n  }\n  // All rules met\n  else {\n    console.log(\"Strong password\");\n  }\n}\n",
      "text/plain": [
       "<IPython.core.display.Javascript object>"
      ]
     },
     "metadata": {},
     "output_type": "display_data"
    }
   ],
   "source": [
    "%%js\n",
    "// Ask the user for a password\n",
    "let password = prompt(\"Enter your password:\");\n",
    "\n",
    "// Check if the user cancelled\n",
    "if (password === null) {\n",
    "  console.log(\"Prompt cancelled.\");\n",
    "} else {\n",
    "  // Rule 1: must be at least 8 characters\n",
    "  if (password.length < 8) {\n",
    "    console.log(\"Weak password: too short\");\n",
    "  }\n",
    "  // Rule 3: must not start with a space\n",
    "  else if (password.startsWith(\" \")) {\n",
    "    console.log(\"Weak password: cannot start with space\");\n",
    "  }\n",
    "  // Rule 2: must include \"!\"\n",
    "  else if (!password.includes(\"!\")) {\n",
    "    console.log(\"Weak password: missing !\");\n",
    "  }\n",
    "  // All rules met\n",
    "  else {\n",
    "    console.log(\"Strong password\");\n",
    "  }\n",
    "}\n"
   ]
  }
 ],
 "metadata": {
  "kernelspec": {
   "display_name": "venv",
   "language": "python",
   "name": "python3"
  },
  "language_info": {
   "codemirror_mode": {
    "name": "ipython",
    "version": 3
   },
   "file_extension": ".py",
   "mimetype": "text/x-python",
   "name": "python",
   "nbconvert_exporter": "python",
   "pygments_lexer": "ipython3",
   "version": "3.12.3"
  }
 },
 "nbformat": 4,
 "nbformat_minor": 5
}
